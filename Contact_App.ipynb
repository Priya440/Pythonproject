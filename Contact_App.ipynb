{
  "nbformat": 4,
  "nbformat_minor": 0,
  "metadata": {
    "colab": {
      "name": "Contact App.ipynb",
      "provenance": []
    },
    "kernelspec": {
      "name": "python3",
      "display_name": "Python 3"
    }
  },
  "cells": [
    {
      "cell_type": "markdown",
      "metadata": {
        "id": "azqfjkmVlPrj",
        "colab_type": "text"
      },
      "source": [
        "#Project Name(Application Name - Contact App)\n",
        "    .Add a contact details\n",
        "    .Search the contact details\n",
        "    .To update or modify the contact detail\n",
        "    .To delete contact detail"
      ]
    },
    {
      "cell_type": "code",
      "metadata": {
        "id": "9IKXVBJAJsCV",
        "colab_type": "code",
        "colab": {
          "base_uri": "https://localhost:8080/",
          "height": 67
        },
        "outputId": "2ae44435-664a-49dc-e2bd-2c847085c1e4"
      },
      "source": [
        "contact = {} #empty dict object is created\n",
        "#Lets create a function to ad a contact detail\n",
        "i=0\n",
        "def addcontact(name,phone):\n",
        "    for i in range(0,70):\n",
        "        if name not in contact:\n",
        "            contact[name] = phone\n",
        "            print(\"contact details aded successfully\")\n",
        "        else:\n",
        "            print(\"contact already exists\")\n",
        "        return contact\n",
        "addcontact('sai',89072222)\n",
        "addcontact('sree',2143434)"
      ],
      "execution_count": 22,
      "outputs": [
        {
          "output_type": "stream",
          "text": [
            "contact details aded successfully\n",
            "contact details aded successfully\n"
          ],
          "name": "stdout"
        },
        {
          "output_type": "execute_result",
          "data": {
            "text/plain": [
              "{'sai': 89072222, 'sree': 2143434}"
            ]
          },
          "metadata": {
            "tags": []
          },
          "execution_count": 22
        }
      ]
    },
    {
      "cell_type": "code",
      "metadata": {
        "id": "wqUKsRlmKfgd",
        "colab_type": "code",
        "colab": {
          "base_uri": "https://localhost:8080/",
          "height": 34
        },
        "outputId": "7e4a9813-817e-405f-9c75-7c36acf85302"
      },
      "source": [
        "\n",
        "contact"
      ],
      "execution_count": 23,
      "outputs": [
        {
          "output_type": "execute_result",
          "data": {
            "text/plain": [
              "{'sai': 89072222, 'sree': 2143434}"
            ]
          },
          "metadata": {
            "tags": []
          },
          "execution_count": 23
        }
      ]
    },
    {
      "cell_type": "code",
      "metadata": {
        "id": "_fXaitZoRZVr",
        "colab_type": "code",
        "colab": {
          "base_uri": "https://localhost:8080/",
          "height": 50
        },
        "outputId": "497da4c2-5d3c-48fe-df27-961550fb821f"
      },
      "source": [
        "def searchcontact(name):\n",
        "    if name not in contact:\n",
        "        print(name,\" does not exist\")\n",
        "    else:\n",
        "        print(\"contact exists\")\n",
        "        print(name,\" : \",contact[name])\n",
        "    return\n",
        "searchcontact('sai')"
      ],
      "execution_count": 31,
      "outputs": [
        {
          "output_type": "stream",
          "text": [
            "contact exists\n",
            "sai  :  89072222\n"
          ],
          "name": "stdout"
        }
      ]
    },
    {
      "cell_type": "code",
      "metadata": {
        "id": "PJv2J0GaTRSm",
        "colab_type": "code",
        "colab": {
          "base_uri": "https://localhost:8080/",
          "height": 50
        },
        "outputId": "6815c258-7900-4f2e-9a38-c9d0d0e37e7e"
      },
      "source": [
        "def modify(name,phone):\n",
        "    if name not in contact:\n",
        "        print(\"contact does not exists\")\n",
        "    else:\n",
        "        contact.update({name:phone})\n",
        "        print(name,\" : \",contact[name])\n",
        "        print(name,'updated successfully')\n",
        "    return\n",
        "modify('sai',286191)\n"
      ],
      "execution_count": 37,
      "outputs": [
        {
          "output_type": "stream",
          "text": [
            "sai  :  286191\n",
            "sai updated successfully\n"
          ],
          "name": "stdout"
        }
      ]
    },
    {
      "cell_type": "code",
      "metadata": {
        "id": "AfvCZOu7Wa0x",
        "colab_type": "code",
        "colab": {
          "base_uri": "https://localhost:8080/",
          "height": 34
        },
        "outputId": "1a01c0bc-3235-49c1-f424-b7063c2dc121"
      },
      "source": [
        "def delete(name):\n",
        "    if name not in contact:\n",
        "        print(\"contact does not exist\")\n",
        "    else:\n",
        "        contact.pop(name)\n",
        "        print(name,\"deleted successfully\")\n",
        "    return\n",
        "delete('sree')"
      ],
      "execution_count": 41,
      "outputs": [
        {
          "output_type": "stream",
          "text": [
            "sree deleted successfully\n"
          ],
          "name": "stdout"
        }
      ]
    },
    {
      "cell_type": "code",
      "metadata": {
        "id": "ah_Y1L6UYCRJ",
        "colab_type": "code",
        "colab": {
          "base_uri": "https://localhost:8080/",
          "height": 34
        },
        "outputId": "0ecd1a8b-6b64-479f-ed3c-02a36a26d830"
      },
      "source": [
        "contact"
      ],
      "execution_count": 42,
      "outputs": [
        {
          "output_type": "execute_result",
          "data": {
            "text/plain": [
              "{'sai': 286191}"
            ]
          },
          "metadata": {
            "tags": []
          },
          "execution_count": 42
        }
      ]
    },
    {
      "cell_type": "code",
      "metadata": {
        "id": "T52gdTkoY_xz",
        "colab_type": "code",
        "colab": {}
      },
      "source": [
        "      "
      ],
      "execution_count": 0,
      "outputs": []
    }
  ]
}